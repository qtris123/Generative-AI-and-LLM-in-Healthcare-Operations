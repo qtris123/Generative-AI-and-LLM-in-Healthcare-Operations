{
 "cells": [
  {
   "cell_type": "code",
   "execution_count": null,
   "metadata": {},
   "outputs": [],
   "source": [
    "import pickle \n",
    "import pandas as pd\n",
    "\n",
    "# procressed input data - combine employment into one and drop unsatisfied columns\n",
    "with open('..\\outputs\\shap_values\\shap_explanation_adaboost.pkl', 'rb') as f:\n",
    "    shap_ada = pickle.load(f)"
   ]
  }
 ],
 "metadata": {
  "kernelspec": {
   "display_name": "Python 3",
   "language": "python",
   "name": "python3"
  },
  "language_info": {
   "name": "python",
   "version": "3.12.10"
  }
 },
 "nbformat": 4,
 "nbformat_minor": 2
}
