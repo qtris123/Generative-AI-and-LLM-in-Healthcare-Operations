{
 "cells": [
  {
   "cell_type": "code",
   "execution_count": 75,
   "metadata": {},
   "outputs": [],
   "source": [
    "import pandas as pd"
   ]
  },
  {
   "cell_type": "code",
   "execution_count": 88,
   "metadata": {},
   "outputs": [],
   "source": [
    "# the datasets with all the different settings and the \"cost\" features\n",
    "myDF = pd.read_csv(\"../placement-decisions-different-costs/combined_placementDecisions_rl_los_cost_3_WR_nocap.csv\")"
   ]
  },
  {
   "cell_type": "code",
   "execution_count": 89,
   "metadata": {},
   "outputs": [],
   "source": [
    "myDF['index'] = range(len(myDF))\n",
    "myDF.drop(['ocp_hd_low_los','ocp_wr_low_los','ocp_jl_low_los','need'], axis = 1, inplace = True)"
   ]
  },
  {
   "cell_type": "code",
   "execution_count": 90,
   "metadata": {},
   "outputs": [],
   "source": [
    "same_values = myDF.groupby(by=['ocp_jl_total','ocp_hd_total', 'ocp_wr_total']).agg(list).reset_index()"
   ]
  },
  {
   "cell_type": "code",
   "execution_count": 49,
   "metadata": {},
   "outputs": [],
   "source": [
    "same_values.to_csv('same_values_nocap.csv')"
   ]
  },
  {
   "cell_type": "code",
   "execution_count": 91,
   "metadata": {},
   "outputs": [
    {
     "data": {
      "text/html": [
       "<div>\n",
       "<style scoped>\n",
       "    .dataframe tbody tr th:only-of-type {\n",
       "        vertical-align: middle;\n",
       "    }\n",
       "\n",
       "    .dataframe tbody tr th {\n",
       "        vertical-align: top;\n",
       "    }\n",
       "\n",
       "    .dataframe thead th {\n",
       "        text-align: right;\n",
       "    }\n",
       "</style>\n",
       "<table border=\"1\" class=\"dataframe\">\n",
       "  <thead>\n",
       "    <tr style=\"text-align: right;\">\n",
       "      <th></th>\n",
       "      <th>ocp_jl_total</th>\n",
       "      <th>ocp_hd_total</th>\n",
       "      <th>ocp_wr_total</th>\n",
       "      <th>c_occu_jail</th>\n",
       "      <th>c_occu_wr</th>\n",
       "      <th>c_occu_hd</th>\n",
       "      <th>c_vio</th>\n",
       "      <th>class_mild</th>\n",
       "      <th>placement</th>\n",
       "      <th>index</th>\n",
       "    </tr>\n",
       "  </thead>\n",
       "  <tbody>\n",
       "    <tr>\n",
       "      <th>0</th>\n",
       "      <td>120</td>\n",
       "      <td>116</td>\n",
       "      <td>247</td>\n",
       "      <td>[0.00144, 0.00144]</td>\n",
       "      <td>[0.001152, 0.001152]</td>\n",
       "      <td>[0.000144, 0.000144]</td>\n",
       "      <td>[0.1, 0.5]</td>\n",
       "      <td>[0, 0]</td>\n",
       "      <td>[jail, jail]</td>\n",
       "      <td>[52416, 78912]</td>\n",
       "    </tr>\n",
       "    <tr>\n",
       "      <th>1</th>\n",
       "      <td>121</td>\n",
       "      <td>114</td>\n",
       "      <td>244</td>\n",
       "      <td>[0.00144, 0.00144]</td>\n",
       "      <td>[0.001152, 0.001152]</td>\n",
       "      <td>[0.000144, 0.000144]</td>\n",
       "      <td>[0.1, 0.5]</td>\n",
       "      <td>[0, 0]</td>\n",
       "      <td>[home detention, home detention]</td>\n",
       "      <td>[52408, 78904]</td>\n",
       "    </tr>\n",
       "    <tr>\n",
       "      <th>2</th>\n",
       "      <td>121</td>\n",
       "      <td>115</td>\n",
       "      <td>244</td>\n",
       "      <td>[0.00144, 0.00144]</td>\n",
       "      <td>[0.001152, 0.001152]</td>\n",
       "      <td>[0.000144, 0.000144]</td>\n",
       "      <td>[0.1, 0.5]</td>\n",
       "      <td>[1, 1]</td>\n",
       "      <td>[work release, work release]</td>\n",
       "      <td>[52409, 78905]</td>\n",
       "    </tr>\n",
       "    <tr>\n",
       "      <th>3</th>\n",
       "      <td>121</td>\n",
       "      <td>115</td>\n",
       "      <td>245</td>\n",
       "      <td>[0.00144, 0.00144]</td>\n",
       "      <td>[0.001152, 0.001152]</td>\n",
       "      <td>[0.000144, 0.000144]</td>\n",
       "      <td>[0.1, 0.5]</td>\n",
       "      <td>[1, 1]</td>\n",
       "      <td>[work release, work release]</td>\n",
       "      <td>[52410, 78906]</td>\n",
       "    </tr>\n",
       "    <tr>\n",
       "      <th>4</th>\n",
       "      <td>121</td>\n",
       "      <td>115</td>\n",
       "      <td>246</td>\n",
       "      <td>[0.00144, 0.00144]</td>\n",
       "      <td>[0.001152, 0.001152]</td>\n",
       "      <td>[0.000144, 0.000144]</td>\n",
       "      <td>[0.1, 0.5]</td>\n",
       "      <td>[1, 1]</td>\n",
       "      <td>[work release, work release]</td>\n",
       "      <td>[52411, 78907]</td>\n",
       "    </tr>\n",
       "    <tr>\n",
       "      <th>...</th>\n",
       "      <td>...</td>\n",
       "      <td>...</td>\n",
       "      <td>...</td>\n",
       "      <td>...</td>\n",
       "      <td>...</td>\n",
       "      <td>...</td>\n",
       "      <td>...</td>\n",
       "      <td>...</td>\n",
       "      <td>...</td>\n",
       "      <td>...</td>\n",
       "    </tr>\n",
       "    <tr>\n",
       "      <th>46439</th>\n",
       "      <td>368</td>\n",
       "      <td>342</td>\n",
       "      <td>402</td>\n",
       "      <td>[9e-05, 9e-05]</td>\n",
       "      <td>[2.7e-05, 2.7e-05]</td>\n",
       "      <td>[2.7e-05, 2.7e-05]</td>\n",
       "      <td>[0.1, 0.5]</td>\n",
       "      <td>[1, 1]</td>\n",
       "      <td>[work release, work release]</td>\n",
       "      <td>[24821, 51025]</td>\n",
       "    </tr>\n",
       "    <tr>\n",
       "      <th>46440</th>\n",
       "      <td>368</td>\n",
       "      <td>342</td>\n",
       "      <td>403</td>\n",
       "      <td>[9e-05, 9e-05]</td>\n",
       "      <td>[2.7e-05, 2.7e-05]</td>\n",
       "      <td>[2.7e-05, 2.7e-05]</td>\n",
       "      <td>[0.1, 0.5]</td>\n",
       "      <td>[1, 1]</td>\n",
       "      <td>[work release, work release]</td>\n",
       "      <td>[24822, 51026]</td>\n",
       "    </tr>\n",
       "    <tr>\n",
       "      <th>46441</th>\n",
       "      <td>368</td>\n",
       "      <td>342</td>\n",
       "      <td>404</td>\n",
       "      <td>[9e-05, 9e-05]</td>\n",
       "      <td>[2.7e-05, 2.7e-05]</td>\n",
       "      <td>[2.7e-05, 2.7e-05]</td>\n",
       "      <td>[0.1, 0.5]</td>\n",
       "      <td>[1, 1]</td>\n",
       "      <td>[work release, work release]</td>\n",
       "      <td>[24823, 51027]</td>\n",
       "    </tr>\n",
       "    <tr>\n",
       "      <th>46442</th>\n",
       "      <td>368</td>\n",
       "      <td>342</td>\n",
       "      <td>405</td>\n",
       "      <td>[9e-05, 9e-05]</td>\n",
       "      <td>[2.7e-05, 2.7e-05]</td>\n",
       "      <td>[2.7e-05, 2.7e-05]</td>\n",
       "      <td>[0.1, 0.5]</td>\n",
       "      <td>[1, 1]</td>\n",
       "      <td>[work release, work release]</td>\n",
       "      <td>[24824, 51028]</td>\n",
       "    </tr>\n",
       "    <tr>\n",
       "      <th>46443</th>\n",
       "      <td>368</td>\n",
       "      <td>342</td>\n",
       "      <td>406</td>\n",
       "      <td>[9e-05, 9e-05]</td>\n",
       "      <td>[2.7e-05, 2.7e-05]</td>\n",
       "      <td>[2.7e-05, 2.7e-05]</td>\n",
       "      <td>[0.1, 0.5]</td>\n",
       "      <td>[1, 1]</td>\n",
       "      <td>[work release, work release]</td>\n",
       "      <td>[24825, 51029]</td>\n",
       "    </tr>\n",
       "  </tbody>\n",
       "</table>\n",
       "<p>46444 rows × 10 columns</p>\n",
       "</div>"
      ],
      "text/plain": [
       "       ocp_jl_total  ocp_hd_total  ocp_wr_total         c_occu_jail  \\\n",
       "0               120           116           247  [0.00144, 0.00144]   \n",
       "1               121           114           244  [0.00144, 0.00144]   \n",
       "2               121           115           244  [0.00144, 0.00144]   \n",
       "3               121           115           245  [0.00144, 0.00144]   \n",
       "4               121           115           246  [0.00144, 0.00144]   \n",
       "...             ...           ...           ...                 ...   \n",
       "46439           368           342           402      [9e-05, 9e-05]   \n",
       "46440           368           342           403      [9e-05, 9e-05]   \n",
       "46441           368           342           404      [9e-05, 9e-05]   \n",
       "46442           368           342           405      [9e-05, 9e-05]   \n",
       "46443           368           342           406      [9e-05, 9e-05]   \n",
       "\n",
       "                  c_occu_wr             c_occu_hd       c_vio class_mild  \\\n",
       "0      [0.001152, 0.001152]  [0.000144, 0.000144]  [0.1, 0.5]     [0, 0]   \n",
       "1      [0.001152, 0.001152]  [0.000144, 0.000144]  [0.1, 0.5]     [0, 0]   \n",
       "2      [0.001152, 0.001152]  [0.000144, 0.000144]  [0.1, 0.5]     [1, 1]   \n",
       "3      [0.001152, 0.001152]  [0.000144, 0.000144]  [0.1, 0.5]     [1, 1]   \n",
       "4      [0.001152, 0.001152]  [0.000144, 0.000144]  [0.1, 0.5]     [1, 1]   \n",
       "...                     ...                   ...         ...        ...   \n",
       "46439    [2.7e-05, 2.7e-05]    [2.7e-05, 2.7e-05]  [0.1, 0.5]     [1, 1]   \n",
       "46440    [2.7e-05, 2.7e-05]    [2.7e-05, 2.7e-05]  [0.1, 0.5]     [1, 1]   \n",
       "46441    [2.7e-05, 2.7e-05]    [2.7e-05, 2.7e-05]  [0.1, 0.5]     [1, 1]   \n",
       "46442    [2.7e-05, 2.7e-05]    [2.7e-05, 2.7e-05]  [0.1, 0.5]     [1, 1]   \n",
       "46443    [2.7e-05, 2.7e-05]    [2.7e-05, 2.7e-05]  [0.1, 0.5]     [1, 1]   \n",
       "\n",
       "                              placement           index  \n",
       "0                          [jail, jail]  [52416, 78912]  \n",
       "1      [home detention, home detention]  [52408, 78904]  \n",
       "2          [work release, work release]  [52409, 78905]  \n",
       "3          [work release, work release]  [52410, 78906]  \n",
       "4          [work release, work release]  [52411, 78907]  \n",
       "...                                 ...             ...  \n",
       "46439      [work release, work release]  [24821, 51025]  \n",
       "46440      [work release, work release]  [24822, 51026]  \n",
       "46441      [work release, work release]  [24823, 51027]  \n",
       "46442      [work release, work release]  [24824, 51028]  \n",
       "46443      [work release, work release]  [24825, 51029]  \n",
       "\n",
       "[46444 rows x 10 columns]"
      ]
     },
     "execution_count": 91,
     "metadata": {},
     "output_type": "execute_result"
    }
   ],
   "source": [
    "same_values"
   ]
  },
  {
   "cell_type": "code",
   "execution_count": null,
   "metadata": {},
   "outputs": [],
   "source": [
    "# classify different types of value similarity"
   ]
  },
  {
   "cell_type": "code",
   "execution_count": 92,
   "metadata": {},
   "outputs": [],
   "source": [
    "length = []\n",
    "for i in range(len(same_values)):\n",
    "    length.append(len(same_values.iloc[i]['placement']))"
   ]
  },
  {
   "cell_type": "code",
   "execution_count": 94,
   "metadata": {},
   "outputs": [
    {
     "data": {
      "text/plain": [
       "Counter({2: 41070, 4: 4634, 6: 620, 8: 99, 10: 20, 12: 1})"
      ]
     },
     "execution_count": 94,
     "metadata": {},
     "output_type": "execute_result"
    }
   ],
   "source": [
    "from collections import Counter\n",
    "\n",
    "frequency = Counter(length)\n",
    "frequency"
   ]
  },
  {
   "cell_type": "code",
   "execution_count": 95,
   "metadata": {},
   "outputs": [],
   "source": [
    "#length is 2\n",
    "len_2 = pd.DataFrame(columns=same_values.columns)\n",
    "for i in range(len(same_values)):\n",
    "    if len(same_values.iloc[i]['placement']) == 2:\n",
    "        len_2.loc[len(len_2)] = same_values.iloc[i]"
   ]
  },
  {
   "cell_type": "code",
   "execution_count": 96,
   "metadata": {},
   "outputs": [
    {
     "data": {
      "text/plain": [
       "0"
      ]
     },
     "execution_count": 96,
     "metadata": {},
     "output_type": "execute_result"
    }
   ],
   "source": [
    "count = 0\n",
    "for i in range(len(len_2)):\n",
    "    if len_2.loc[i]['placement'][0] != len_2.loc[i]['placement'][1]:\n",
    "        count +=1 \n",
    "count"
   ]
  },
  {
   "cell_type": "code",
   "execution_count": 98,
   "metadata": {},
   "outputs": [],
   "source": [
    "#length is 4\n",
    "len_4 = pd.DataFrame(columns=same_values.columns)\n",
    "for i in range(len(same_values)):\n",
    "    if len(same_values.iloc[i]['placement']) == 4:\n",
    "        len_4.loc[len(len_4)] = same_values.iloc[i]"
   ]
  },
  {
   "cell_type": "code",
   "execution_count": 130,
   "metadata": {},
   "outputs": [
    {
     "data": {
      "text/plain": [
       "2395"
      ]
     },
     "execution_count": 130,
     "metadata": {},
     "output_type": "execute_result"
    }
   ],
   "source": [
    "count_index = []\n",
    "for i in range(len(len_4)):\n",
    "    pivot = len_4.loc[i]['placement'][0]\n",
    "    for j in len_4.loc[i]['placement']:\n",
    "        if pivot != j:\n",
    "            count_index.append(len_4.loc[i]['index'])\n",
    "            break\n",
    "len(count_index)"
   ]
  },
  {
   "cell_type": "code",
   "execution_count": 100,
   "metadata": {},
   "outputs": [],
   "source": [
    "#length is 6\n",
    "len_6 = pd.DataFrame(columns=same_values.columns)\n",
    "for i in range(len(same_values)):\n",
    "    if len(same_values.iloc[i]['placement']) == 6:\n",
    "        len_6.loc[len(len_6)] = same_values.iloc[i]"
   ]
  },
  {
   "cell_type": "code",
   "execution_count": 134,
   "metadata": {},
   "outputs": [
    {
     "data": {
      "text/plain": [
       "467"
      ]
     },
     "execution_count": 134,
     "metadata": {},
     "output_type": "execute_result"
    }
   ],
   "source": [
    "count_index6 = []\n",
    "for i in range(len(len_6)):\n",
    "    pivot = len_6.loc[i]['placement'][0]\n",
    "    for j in len_6.loc[i]['placement']:\n",
    "        if pivot != j:\n",
    "            count_index6.append(len_6.loc[i]['index'])\n",
    "            break\n",
    "len(count_index6)"
   ]
  },
  {
   "cell_type": "code",
   "execution_count": 135,
   "metadata": {},
   "outputs": [
    {
     "data": {
      "text/plain": [
       "78"
      ]
     },
     "execution_count": 135,
     "metadata": {},
     "output_type": "execute_result"
    }
   ],
   "source": [
    "#length is 8\n",
    "len_8 = pd.DataFrame(columns=same_values.columns)\n",
    "for i in range(len(same_values)):\n",
    "    if len(same_values.iloc[i]['placement']) == 8:\n",
    "        len_8.loc[len(len_8)] = same_values.iloc[i]\n",
    "count_index8 = []\n",
    "for i in range(len(len_8)):\n",
    "    pivot = len_8.loc[i]['placement'][0]\n",
    "    for j in len_8.loc[i]['placement']:\n",
    "        if pivot != j:\n",
    "            count_index8.append(len_8.loc[i]['index'])\n",
    "            break\n",
    "len(count_index8)"
   ]
  },
  {
   "cell_type": "code",
   "execution_count": 136,
   "metadata": {},
   "outputs": [
    {
     "data": {
      "text/plain": [
       "20"
      ]
     },
     "execution_count": 136,
     "metadata": {},
     "output_type": "execute_result"
    }
   ],
   "source": [
    "#length is 10\n",
    "len_10 = pd.DataFrame(columns=same_values.columns)\n",
    "for i in range(len(same_values)):\n",
    "    if len(same_values.iloc[i]['placement']) == 10:\n",
    "        len_10.loc[len(len_10)] = same_values.iloc[i]\n",
    "count_index10 = []\n",
    "for i in range(len(len_10)):\n",
    "    pivot = len_10.loc[i]['placement'][0]\n",
    "    for j in len_10.loc[i]['placement']:\n",
    "        if pivot != j:\n",
    "            count_index10.append(len_10.loc[i]['index'])\n",
    "            break\n",
    "len(count_index10)"
   ]
  },
  {
   "cell_type": "code",
   "execution_count": 137,
   "metadata": {},
   "outputs": [
    {
     "data": {
      "text/plain": [
       "1"
      ]
     },
     "execution_count": 137,
     "metadata": {},
     "output_type": "execute_result"
    }
   ],
   "source": [
    "#length is 12\n",
    "len_12 = pd.DataFrame(columns=same_values.columns)\n",
    "for i in range(len(same_values)):\n",
    "    if len(same_values.iloc[i]['placement']) == 12:\n",
    "        len_12.loc[len(len_12)] = same_values.iloc[i]\n",
    "count_index12 = []\n",
    "for i in range(len(len_12)):\n",
    "    pivot = len_12.loc[i]['placement'][0]\n",
    "    for j in len_12.loc[i]['placement']:\n",
    "        if pivot != j:\n",
    "            count_index12.append(len_10.loc[i]['index'])\n",
    "            break\n",
    "len(count_index12)"
   ]
  },
  {
   "cell_type": "code",
   "execution_count": 142,
   "metadata": {},
   "outputs": [
    {
     "data": {
      "text/plain": [
       "[66778, 67249, 67320, 68317, 68337, 93274, 93745, 93816, 94813, 94833]"
      ]
     },
     "execution_count": 142,
     "metadata": {},
     "output_type": "execute_result"
    }
   ],
   "source": [
    "len_10['index']"
   ]
  },
  {
   "cell_type": "code",
   "execution_count": null,
   "metadata": {},
   "outputs": [],
   "source": []
  },
  {
   "cell_type": "markdown",
   "metadata": {},
   "source": [
    "## SHAP VALUES INTERPRETATION"
   ]
  },
  {
   "cell_type": "code",
   "execution_count": 112,
   "metadata": {},
   "outputs": [],
   "source": [
    "smaller_myDF = myDF.sample(int(len(myDF)*0.2))"
   ]
  },
  {
   "cell_type": "code",
   "execution_count": 223,
   "metadata": {},
   "outputs": [
    {
     "data": {
      "text/plain": [
       "'work release'"
      ]
     },
     "execution_count": 223,
     "metadata": {},
     "output_type": "execute_result"
    }
   ],
   "source": [
    "myDF[ myDF['index'] == 53563]['placement'].values[0]"
   ]
  },
  {
   "cell_type": "code",
   "execution_count": 227,
   "metadata": {},
   "outputs": [],
   "source": [
    "unique_placement_index6 = []\n",
    "for row in count_index6:\n",
    "    temp_value = row[0] #this is an index pointing to a row of myDF\n",
    "    temp_list = []\n",
    "    temp_list.append(temp_value)\n",
    "    for index_placement in row:\n",
    "        if (myDF[ myDF['index'] == temp_value]['placement'].values[0]) != str(myDF[ myDF['index'] == index_placement ]['placement'].values[0]):\n",
    "            temp_list.append(index_placement)\n",
    "            break\n",
    "    unique_placement_index6.append(temp_list)"
   ]
  },
  {
   "cell_type": "code",
   "execution_count": 226,
   "metadata": {},
   "outputs": [],
   "source": [
    "valid_index = []\n",
    "for row in unique_placement_index6:\n",
    "    if row[0] in smaller_myDF['index'] and row[1] in smaller_myDF['index']:\n",
    "        valid_index.append(row)"
   ]
  },
  {
   "cell_type": "code",
   "execution_count": 306,
   "metadata": {},
   "outputs": [
    {
     "data": {
      "text/plain": [
       "[[52790, 55068],\n",
       " [66168, 66304],\n",
       " [67697, 68006],\n",
       " [68755, 68940],\n",
       " [55844, 56596],\n",
       " [56320, 56795],\n",
       " [13558, 14784],\n",
       " [1562, 15971],\n",
       " [58225, 61730],\n",
       " [59114, 59314],\n",
       " [59450, 59881],\n",
       " [5049, 18201],\n",
       " [4275, 4518],\n",
       " [6626, 19270],\n",
       " [7299, 10607],\n",
       " [20280, 20639],\n",
       " [21699, 23481],\n",
       " [8235, 21286],\n",
       " [8819, 23089],\n",
       " [8562, 11338],\n",
       " [8423, 12338],\n",
       " [12357, 12580]]"
      ]
     },
     "execution_count": 306,
     "metadata": {},
     "output_type": "execute_result"
    }
   ],
   "source": [
    "valid_index"
   ]
  },
  {
   "cell_type": "code",
   "execution_count": null,
   "metadata": {},
   "outputs": [],
   "source": [
    "## Build and Train a model"
   ]
  },
  {
   "cell_type": "code",
   "execution_count": 166,
   "metadata": {},
   "outputs": [
    {
     "data": {
      "text/html": [
       "<div>\n",
       "<style scoped>\n",
       "    .dataframe tbody tr th:only-of-type {\n",
       "        vertical-align: middle;\n",
       "    }\n",
       "\n",
       "    .dataframe tbody tr th {\n",
       "        vertical-align: top;\n",
       "    }\n",
       "\n",
       "    .dataframe thead th {\n",
       "        text-align: right;\n",
       "    }\n",
       "</style>\n",
       "<table border=\"1\" class=\"dataframe\">\n",
       "  <thead>\n",
       "    <tr style=\"text-align: right;\">\n",
       "      <th></th>\n",
       "      <th>c_occu_jail</th>\n",
       "      <th>c_occu_wr</th>\n",
       "      <th>c_occu_hd</th>\n",
       "      <th>c_vio</th>\n",
       "      <th>ocp_jl_total</th>\n",
       "      <th>ocp_wr_total</th>\n",
       "      <th>ocp_hd_total</th>\n",
       "      <th>class_mild</th>\n",
       "      <th>placement</th>\n",
       "      <th>index</th>\n",
       "    </tr>\n",
       "  </thead>\n",
       "  <tbody>\n",
       "    <tr>\n",
       "      <th>61334</th>\n",
       "      <td>0.00144</td>\n",
       "      <td>0.001152</td>\n",
       "      <td>0.000144</td>\n",
       "      <td>0.1</td>\n",
       "      <td>285</td>\n",
       "      <td>359</td>\n",
       "      <td>321</td>\n",
       "      <td>1</td>\n",
       "      <td>work release</td>\n",
       "      <td>61334</td>\n",
       "    </tr>\n",
       "    <tr>\n",
       "      <th>38101</th>\n",
       "      <td>0.00009</td>\n",
       "      <td>0.000072</td>\n",
       "      <td>0.000009</td>\n",
       "      <td>0.5</td>\n",
       "      <td>345</td>\n",
       "      <td>379</td>\n",
       "      <td>339</td>\n",
       "      <td>0</td>\n",
       "      <td>jail</td>\n",
       "      <td>38101</td>\n",
       "    </tr>\n",
       "    <tr>\n",
       "      <th>103677</th>\n",
       "      <td>0.00144</td>\n",
       "      <td>0.000432</td>\n",
       "      <td>0.000432</td>\n",
       "      <td>0.5</td>\n",
       "      <td>318</td>\n",
       "      <td>380</td>\n",
       "      <td>321</td>\n",
       "      <td>1</td>\n",
       "      <td>work release</td>\n",
       "      <td>103677</td>\n",
       "    </tr>\n",
       "    <tr>\n",
       "      <th>14940</th>\n",
       "      <td>0.00009</td>\n",
       "      <td>0.000027</td>\n",
       "      <td>0.000027</td>\n",
       "      <td>0.1</td>\n",
       "      <td>246</td>\n",
       "      <td>302</td>\n",
       "      <td>202</td>\n",
       "      <td>1</td>\n",
       "      <td>work release</td>\n",
       "      <td>14940</td>\n",
       "    </tr>\n",
       "    <tr>\n",
       "      <th>79189</th>\n",
       "      <td>0.00144</td>\n",
       "      <td>0.001152</td>\n",
       "      <td>0.000144</td>\n",
       "      <td>0.5</td>\n",
       "      <td>172</td>\n",
       "      <td>287</td>\n",
       "      <td>203</td>\n",
       "      <td>1</td>\n",
       "      <td>work release</td>\n",
       "      <td>79189</td>\n",
       "    </tr>\n",
       "    <tr>\n",
       "      <th>...</th>\n",
       "      <td>...</td>\n",
       "      <td>...</td>\n",
       "      <td>...</td>\n",
       "      <td>...</td>\n",
       "      <td>...</td>\n",
       "      <td>...</td>\n",
       "      <td>...</td>\n",
       "      <td>...</td>\n",
       "      <td>...</td>\n",
       "      <td>...</td>\n",
       "    </tr>\n",
       "    <tr>\n",
       "      <th>80324</th>\n",
       "      <td>0.00144</td>\n",
       "      <td>0.001152</td>\n",
       "      <td>0.000144</td>\n",
       "      <td>0.5</td>\n",
       "      <td>203</td>\n",
       "      <td>311</td>\n",
       "      <td>247</td>\n",
       "      <td>0</td>\n",
       "      <td>home detention</td>\n",
       "      <td>80324</td>\n",
       "    </tr>\n",
       "    <tr>\n",
       "      <th>47463</th>\n",
       "      <td>0.00009</td>\n",
       "      <td>0.000027</td>\n",
       "      <td>0.000027</td>\n",
       "      <td>0.5</td>\n",
       "      <td>316</td>\n",
       "      <td>358</td>\n",
       "      <td>311</td>\n",
       "      <td>1</td>\n",
       "      <td>work release</td>\n",
       "      <td>47463</td>\n",
       "    </tr>\n",
       "    <tr>\n",
       "      <th>102361</th>\n",
       "      <td>0.00144</td>\n",
       "      <td>0.000432</td>\n",
       "      <td>0.000432</td>\n",
       "      <td>0.5</td>\n",
       "      <td>281</td>\n",
       "      <td>376</td>\n",
       "      <td>308</td>\n",
       "      <td>1</td>\n",
       "      <td>home detention</td>\n",
       "      <td>102361</td>\n",
       "    </tr>\n",
       "    <tr>\n",
       "      <th>85971</th>\n",
       "      <td>0.00144</td>\n",
       "      <td>0.001152</td>\n",
       "      <td>0.000144</td>\n",
       "      <td>0.5</td>\n",
       "      <td>278</td>\n",
       "      <td>348</td>\n",
       "      <td>314</td>\n",
       "      <td>1</td>\n",
       "      <td>work release</td>\n",
       "      <td>85971</td>\n",
       "    </tr>\n",
       "    <tr>\n",
       "      <th>88841</th>\n",
       "      <td>0.00144</td>\n",
       "      <td>0.001152</td>\n",
       "      <td>0.000144</td>\n",
       "      <td>0.5</td>\n",
       "      <td>288</td>\n",
       "      <td>342</td>\n",
       "      <td>318</td>\n",
       "      <td>1</td>\n",
       "      <td>work release</td>\n",
       "      <td>88841</td>\n",
       "    </tr>\n",
       "  </tbody>\n",
       "</table>\n",
       "<p>21080 rows × 10 columns</p>\n",
       "</div>"
      ],
      "text/plain": [
       "        c_occu_jail  c_occu_wr  c_occu_hd  c_vio  ocp_jl_total  ocp_wr_total  \\\n",
       "61334       0.00144   0.001152   0.000144    0.1           285           359   \n",
       "38101       0.00009   0.000072   0.000009    0.5           345           379   \n",
       "103677      0.00144   0.000432   0.000432    0.5           318           380   \n",
       "14940       0.00009   0.000027   0.000027    0.1           246           302   \n",
       "79189       0.00144   0.001152   0.000144    0.5           172           287   \n",
       "...             ...        ...        ...    ...           ...           ...   \n",
       "80324       0.00144   0.001152   0.000144    0.5           203           311   \n",
       "47463       0.00009   0.000027   0.000027    0.5           316           358   \n",
       "102361      0.00144   0.000432   0.000432    0.5           281           376   \n",
       "85971       0.00144   0.001152   0.000144    0.5           278           348   \n",
       "88841       0.00144   0.001152   0.000144    0.5           288           342   \n",
       "\n",
       "        ocp_hd_total  class_mild       placement   index  \n",
       "61334            321           1    work release   61334  \n",
       "38101            339           0            jail   38101  \n",
       "103677           321           1    work release  103677  \n",
       "14940            202           1    work release   14940  \n",
       "79189            203           1    work release   79189  \n",
       "...              ...         ...             ...     ...  \n",
       "80324            247           0  home detention   80324  \n",
       "47463            311           1    work release   47463  \n",
       "102361           308           1  home detention  102361  \n",
       "85971            314           1    work release   85971  \n",
       "88841            318           1    work release   88841  \n",
       "\n",
       "[21080 rows x 10 columns]"
      ]
     },
     "execution_count": 166,
     "metadata": {},
     "output_type": "execute_result"
    }
   ],
   "source": [
    "smaller_myDF"
   ]
  },
  {
   "cell_type": "code",
   "execution_count": 173,
   "metadata": {},
   "outputs": [],
   "source": [
    "# one hot encoding  -> the target is \"placement\", so we don't need to encode this column, also bcz RandomForest can handle categorical target data\n",
    "# work release = 0 | home detention = 1 | jail = 2\n",
    "for ind, item in smaller_myDF.iterrows():\n",
    "    if item['placement'] == 'work release':\n",
    "        smaller_myDF['placement'].at[ind] = '0'\n",
    "    elif item['placement'] == 'home detention':\n",
    "        smaller_myDF['placement'].at[ind] = '1'\n",
    "    elif item['placement'] == 'jail':\n",
    "        smaller_myDF['placement'].at[ind] = '2'\n",
    "\n",
    "#object to int\n",
    "smaller_myDF['placement'] = pd.to_numeric(smaller_myDF['placement'])"
   ]
  },
  {
   "cell_type": "code",
   "execution_count": 174,
   "metadata": {},
   "outputs": [],
   "source": [
    "smaller_y = smaller_myDF['placement']\n",
    "smaller_X = smaller_myDF.drop(['placement'], axis = 1)\n",
    "from sklearn.model_selection import train_test_split\n",
    "from sklearn.ensemble import RandomForestClassifier\n",
    "X_train, X_test, y_train, y_test = train_test_split( smaller_X, smaller_y, train_size = 0.7, random_state = 50)"
   ]
  },
  {
   "cell_type": "code",
   "execution_count": 300,
   "metadata": {},
   "outputs": [
    {
     "data": {
      "text/html": [
       "<div>\n",
       "<style scoped>\n",
       "    .dataframe tbody tr th:only-of-type {\n",
       "        vertical-align: middle;\n",
       "    }\n",
       "\n",
       "    .dataframe tbody tr th {\n",
       "        vertical-align: top;\n",
       "    }\n",
       "\n",
       "    .dataframe thead th {\n",
       "        text-align: right;\n",
       "    }\n",
       "</style>\n",
       "<table border=\"1\" class=\"dataframe\">\n",
       "  <thead>\n",
       "    <tr style=\"text-align: right;\">\n",
       "      <th></th>\n",
       "      <th>c_occu_jail</th>\n",
       "      <th>c_occu_wr</th>\n",
       "      <th>c_occu_hd</th>\n",
       "      <th>c_vio</th>\n",
       "      <th>ocp_jl_total</th>\n",
       "      <th>ocp_wr_total</th>\n",
       "      <th>ocp_hd_total</th>\n",
       "      <th>class_mild</th>\n",
       "      <th>index</th>\n",
       "    </tr>\n",
       "  </thead>\n",
       "  <tbody>\n",
       "    <tr>\n",
       "      <th>9783</th>\n",
       "      <td>0.00009</td>\n",
       "      <td>0.000072</td>\n",
       "      <td>0.000009</td>\n",
       "      <td>0.1</td>\n",
       "      <td>319</td>\n",
       "      <td>342</td>\n",
       "      <td>307</td>\n",
       "      <td>1</td>\n",
       "      <td>9783</td>\n",
       "    </tr>\n",
       "    <tr>\n",
       "      <th>15859</th>\n",
       "      <td>0.00009</td>\n",
       "      <td>0.000027</td>\n",
       "      <td>0.000027</td>\n",
       "      <td>0.1</td>\n",
       "      <td>246</td>\n",
       "      <td>299</td>\n",
       "      <td>191</td>\n",
       "      <td>0</td>\n",
       "      <td>15859</td>\n",
       "    </tr>\n",
       "    <tr>\n",
       "      <th>57212</th>\n",
       "      <td>0.00144</td>\n",
       "      <td>0.001152</td>\n",
       "      <td>0.000144</td>\n",
       "      <td>0.1</td>\n",
       "      <td>223</td>\n",
       "      <td>317</td>\n",
       "      <td>300</td>\n",
       "      <td>1</td>\n",
       "      <td>57212</td>\n",
       "    </tr>\n",
       "    <tr>\n",
       "      <th>100504</th>\n",
       "      <td>0.00144</td>\n",
       "      <td>0.000432</td>\n",
       "      <td>0.000432</td>\n",
       "      <td>0.5</td>\n",
       "      <td>308</td>\n",
       "      <td>381</td>\n",
       "      <td>319</td>\n",
       "      <td>1</td>\n",
       "      <td>100504</td>\n",
       "    </tr>\n",
       "    <tr>\n",
       "      <th>66501</th>\n",
       "      <td>0.00144</td>\n",
       "      <td>0.000432</td>\n",
       "      <td>0.000432</td>\n",
       "      <td>0.1</td>\n",
       "      <td>200</td>\n",
       "      <td>326</td>\n",
       "      <td>209</td>\n",
       "      <td>1</td>\n",
       "      <td>66501</td>\n",
       "    </tr>\n",
       "    <tr>\n",
       "      <th>...</th>\n",
       "      <td>...</td>\n",
       "      <td>...</td>\n",
       "      <td>...</td>\n",
       "      <td>...</td>\n",
       "      <td>...</td>\n",
       "      <td>...</td>\n",
       "      <td>...</td>\n",
       "      <td>...</td>\n",
       "      <td>...</td>\n",
       "    </tr>\n",
       "    <tr>\n",
       "      <th>66891</th>\n",
       "      <td>0.00144</td>\n",
       "      <td>0.000432</td>\n",
       "      <td>0.000432</td>\n",
       "      <td>0.1</td>\n",
       "      <td>200</td>\n",
       "      <td>315</td>\n",
       "      <td>214</td>\n",
       "      <td>0</td>\n",
       "      <td>66891</td>\n",
       "    </tr>\n",
       "    <tr>\n",
       "      <th>92145</th>\n",
       "      <td>0.00144</td>\n",
       "      <td>0.000432</td>\n",
       "      <td>0.000432</td>\n",
       "      <td>0.5</td>\n",
       "      <td>137</td>\n",
       "      <td>257</td>\n",
       "      <td>100</td>\n",
       "      <td>0</td>\n",
       "      <td>92145</td>\n",
       "    </tr>\n",
       "    <tr>\n",
       "      <th>89319</th>\n",
       "      <td>0.00144</td>\n",
       "      <td>0.001152</td>\n",
       "      <td>0.000144</td>\n",
       "      <td>0.5</td>\n",
       "      <td>284</td>\n",
       "      <td>362</td>\n",
       "      <td>329</td>\n",
       "      <td>1</td>\n",
       "      <td>89319</td>\n",
       "    </tr>\n",
       "    <tr>\n",
       "      <th>58836</th>\n",
       "      <td>0.00144</td>\n",
       "      <td>0.001152</td>\n",
       "      <td>0.000144</td>\n",
       "      <td>0.1</td>\n",
       "      <td>259</td>\n",
       "      <td>347</td>\n",
       "      <td>307</td>\n",
       "      <td>1</td>\n",
       "      <td>58836</td>\n",
       "    </tr>\n",
       "    <tr>\n",
       "      <th>6530</th>\n",
       "      <td>0.00009</td>\n",
       "      <td>0.000072</td>\n",
       "      <td>0.000009</td>\n",
       "      <td>0.1</td>\n",
       "      <td>295</td>\n",
       "      <td>342</td>\n",
       "      <td>298</td>\n",
       "      <td>0</td>\n",
       "      <td>6530</td>\n",
       "    </tr>\n",
       "  </tbody>\n",
       "</table>\n",
       "<p>14755 rows × 9 columns</p>\n",
       "</div>"
      ],
      "text/plain": [
       "        c_occu_jail  c_occu_wr  c_occu_hd  c_vio  ocp_jl_total  ocp_wr_total  \\\n",
       "9783        0.00009   0.000072   0.000009    0.1           319           342   \n",
       "15859       0.00009   0.000027   0.000027    0.1           246           299   \n",
       "57212       0.00144   0.001152   0.000144    0.1           223           317   \n",
       "100504      0.00144   0.000432   0.000432    0.5           308           381   \n",
       "66501       0.00144   0.000432   0.000432    0.1           200           326   \n",
       "...             ...        ...        ...    ...           ...           ...   \n",
       "66891       0.00144   0.000432   0.000432    0.1           200           315   \n",
       "92145       0.00144   0.000432   0.000432    0.5           137           257   \n",
       "89319       0.00144   0.001152   0.000144    0.5           284           362   \n",
       "58836       0.00144   0.001152   0.000144    0.1           259           347   \n",
       "6530        0.00009   0.000072   0.000009    0.1           295           342   \n",
       "\n",
       "        ocp_hd_total  class_mild   index  \n",
       "9783             307           1    9783  \n",
       "15859            191           0   15859  \n",
       "57212            300           1   57212  \n",
       "100504           319           1  100504  \n",
       "66501            209           1   66501  \n",
       "...              ...         ...     ...  \n",
       "66891            214           0   66891  \n",
       "92145            100           0   92145  \n",
       "89319            329           1   89319  \n",
       "58836            307           1   58836  \n",
       "6530             298           0    6530  \n",
       "\n",
       "[14755 rows x 9 columns]"
      ]
     },
     "execution_count": 300,
     "metadata": {},
     "output_type": "execute_result"
    }
   ],
   "source": [
    "X_train"
   ]
  },
  {
   "cell_type": "code",
   "execution_count": 262,
   "metadata": {},
   "outputs": [],
   "source": [
    "X_train2 = X_train.drop(['index',], axis = 1)"
   ]
  },
  {
   "cell_type": "code",
   "execution_count": null,
   "metadata": {},
   "outputs": [],
   "source": [
    "#halving grid search"
   ]
  },
  {
   "cell_type": "code",
   "execution_count": 271,
   "metadata": {},
   "outputs": [],
   "source": [
    "from sklearn.experimental import enable_halving_search_cv\n",
    "from sklearn.model_selection import HalvingGridSearchCV\n",
    "param_grid = {'n_estimators': [20, 50, 100, 150], 'max_depth': [None, 5, 10], \n",
    "              'min_samples_leaf': [2, 5, 10],\n",
    "              'min_samples_split': [2, 4, 6], 'max_features': [\"sqrt\", \"log2\", None]}"
   ]
  },
  {
   "cell_type": "code",
   "execution_count": 272,
   "metadata": {},
   "outputs": [
    {
     "data": {
      "text/plain": [
       "{'max_depth': None,\n",
       " 'max_features': None,\n",
       " 'min_samples_leaf': 5,\n",
       " 'min_samples_split': 6,\n",
       " 'n_estimators': 100}"
      ]
     },
     "execution_count": 272,
     "metadata": {},
     "output_type": "execute_result"
    }
   ],
   "source": [
    "rf = RandomForestClassifier( random_state= 50)\n",
    "sh = HalvingGridSearchCV(rf, param_grid, cv = 5, factor = 2, random_state=50).fit(X_train2, y_train)\n",
    "sh.best_params_"
   ]
  },
  {
   "cell_type": "code",
   "execution_count": 274,
   "metadata": {},
   "outputs": [
    {
     "data": {
      "text/html": [
       "<style>#sk-container-id-6 {\n",
       "  /* Definition of color scheme common for light and dark mode */\n",
       "  --sklearn-color-text: black;\n",
       "  --sklearn-color-line: gray;\n",
       "  /* Definition of color scheme for unfitted estimators */\n",
       "  --sklearn-color-unfitted-level-0: #fff5e6;\n",
       "  --sklearn-color-unfitted-level-1: #f6e4d2;\n",
       "  --sklearn-color-unfitted-level-2: #ffe0b3;\n",
       "  --sklearn-color-unfitted-level-3: chocolate;\n",
       "  /* Definition of color scheme for fitted estimators */\n",
       "  --sklearn-color-fitted-level-0: #f0f8ff;\n",
       "  --sklearn-color-fitted-level-1: #d4ebff;\n",
       "  --sklearn-color-fitted-level-2: #b3dbfd;\n",
       "  --sklearn-color-fitted-level-3: cornflowerblue;\n",
       "\n",
       "  /* Specific color for light theme */\n",
       "  --sklearn-color-text-on-default-background: var(--sg-text-color, var(--theme-code-foreground, var(--jp-content-font-color1, black)));\n",
       "  --sklearn-color-background: var(--sg-background-color, var(--theme-background, var(--jp-layout-color0, white)));\n",
       "  --sklearn-color-border-box: var(--sg-text-color, var(--theme-code-foreground, var(--jp-content-font-color1, black)));\n",
       "  --sklearn-color-icon: #696969;\n",
       "\n",
       "  @media (prefers-color-scheme: dark) {\n",
       "    /* Redefinition of color scheme for dark theme */\n",
       "    --sklearn-color-text-on-default-background: var(--sg-text-color, var(--theme-code-foreground, var(--jp-content-font-color1, white)));\n",
       "    --sklearn-color-background: var(--sg-background-color, var(--theme-background, var(--jp-layout-color0, #111)));\n",
       "    --sklearn-color-border-box: var(--sg-text-color, var(--theme-code-foreground, var(--jp-content-font-color1, white)));\n",
       "    --sklearn-color-icon: #878787;\n",
       "  }\n",
       "}\n",
       "\n",
       "#sk-container-id-6 {\n",
       "  color: var(--sklearn-color-text);\n",
       "}\n",
       "\n",
       "#sk-container-id-6 pre {\n",
       "  padding: 0;\n",
       "}\n",
       "\n",
       "#sk-container-id-6 input.sk-hidden--visually {\n",
       "  border: 0;\n",
       "  clip: rect(1px 1px 1px 1px);\n",
       "  clip: rect(1px, 1px, 1px, 1px);\n",
       "  height: 1px;\n",
       "  margin: -1px;\n",
       "  overflow: hidden;\n",
       "  padding: 0;\n",
       "  position: absolute;\n",
       "  width: 1px;\n",
       "}\n",
       "\n",
       "#sk-container-id-6 div.sk-dashed-wrapped {\n",
       "  border: 1px dashed var(--sklearn-color-line);\n",
       "  margin: 0 0.4em 0.5em 0.4em;\n",
       "  box-sizing: border-box;\n",
       "  padding-bottom: 0.4em;\n",
       "  background-color: var(--sklearn-color-background);\n",
       "}\n",
       "\n",
       "#sk-container-id-6 div.sk-container {\n",
       "  /* jupyter's `normalize.less` sets `[hidden] { display: none; }`\n",
       "     but bootstrap.min.css set `[hidden] { display: none !important; }`\n",
       "     so we also need the `!important` here to be able to override the\n",
       "     default hidden behavior on the sphinx rendered scikit-learn.org.\n",
       "     See: https://github.com/scikit-learn/scikit-learn/issues/21755 */\n",
       "  display: inline-block !important;\n",
       "  position: relative;\n",
       "}\n",
       "\n",
       "#sk-container-id-6 div.sk-text-repr-fallback {\n",
       "  display: none;\n",
       "}\n",
       "\n",
       "div.sk-parallel-item,\n",
       "div.sk-serial,\n",
       "div.sk-item {\n",
       "  /* draw centered vertical line to link estimators */\n",
       "  background-image: linear-gradient(var(--sklearn-color-text-on-default-background), var(--sklearn-color-text-on-default-background));\n",
       "  background-size: 2px 100%;\n",
       "  background-repeat: no-repeat;\n",
       "  background-position: center center;\n",
       "}\n",
       "\n",
       "/* Parallel-specific style estimator block */\n",
       "\n",
       "#sk-container-id-6 div.sk-parallel-item::after {\n",
       "  content: \"\";\n",
       "  width: 100%;\n",
       "  border-bottom: 2px solid var(--sklearn-color-text-on-default-background);\n",
       "  flex-grow: 1;\n",
       "}\n",
       "\n",
       "#sk-container-id-6 div.sk-parallel {\n",
       "  display: flex;\n",
       "  align-items: stretch;\n",
       "  justify-content: center;\n",
       "  background-color: var(--sklearn-color-background);\n",
       "  position: relative;\n",
       "}\n",
       "\n",
       "#sk-container-id-6 div.sk-parallel-item {\n",
       "  display: flex;\n",
       "  flex-direction: column;\n",
       "}\n",
       "\n",
       "#sk-container-id-6 div.sk-parallel-item:first-child::after {\n",
       "  align-self: flex-end;\n",
       "  width: 50%;\n",
       "}\n",
       "\n",
       "#sk-container-id-6 div.sk-parallel-item:last-child::after {\n",
       "  align-self: flex-start;\n",
       "  width: 50%;\n",
       "}\n",
       "\n",
       "#sk-container-id-6 div.sk-parallel-item:only-child::after {\n",
       "  width: 0;\n",
       "}\n",
       "\n",
       "/* Serial-specific style estimator block */\n",
       "\n",
       "#sk-container-id-6 div.sk-serial {\n",
       "  display: flex;\n",
       "  flex-direction: column;\n",
       "  align-items: center;\n",
       "  background-color: var(--sklearn-color-background);\n",
       "  padding-right: 1em;\n",
       "  padding-left: 1em;\n",
       "}\n",
       "\n",
       "\n",
       "/* Toggleable style: style used for estimator/Pipeline/ColumnTransformer box that is\n",
       "clickable and can be expanded/collapsed.\n",
       "- Pipeline and ColumnTransformer use this feature and define the default style\n",
       "- Estimators will overwrite some part of the style using the `sk-estimator` class\n",
       "*/\n",
       "\n",
       "/* Pipeline and ColumnTransformer style (default) */\n",
       "\n",
       "#sk-container-id-6 div.sk-toggleable {\n",
       "  /* Default theme specific background. It is overwritten whether we have a\n",
       "  specific estimator or a Pipeline/ColumnTransformer */\n",
       "  background-color: var(--sklearn-color-background);\n",
       "}\n",
       "\n",
       "/* Toggleable label */\n",
       "#sk-container-id-6 label.sk-toggleable__label {\n",
       "  cursor: pointer;\n",
       "  display: block;\n",
       "  width: 100%;\n",
       "  margin-bottom: 0;\n",
       "  padding: 0.5em;\n",
       "  box-sizing: border-box;\n",
       "  text-align: center;\n",
       "}\n",
       "\n",
       "#sk-container-id-6 label.sk-toggleable__label-arrow:before {\n",
       "  /* Arrow on the left of the label */\n",
       "  content: \"▸\";\n",
       "  float: left;\n",
       "  margin-right: 0.25em;\n",
       "  color: var(--sklearn-color-icon);\n",
       "}\n",
       "\n",
       "#sk-container-id-6 label.sk-toggleable__label-arrow:hover:before {\n",
       "  color: var(--sklearn-color-text);\n",
       "}\n",
       "\n",
       "/* Toggleable content - dropdown */\n",
       "\n",
       "#sk-container-id-6 div.sk-toggleable__content {\n",
       "  max-height: 0;\n",
       "  max-width: 0;\n",
       "  overflow: hidden;\n",
       "  text-align: left;\n",
       "  /* unfitted */\n",
       "  background-color: var(--sklearn-color-unfitted-level-0);\n",
       "}\n",
       "\n",
       "#sk-container-id-6 div.sk-toggleable__content.fitted {\n",
       "  /* fitted */\n",
       "  background-color: var(--sklearn-color-fitted-level-0);\n",
       "}\n",
       "\n",
       "#sk-container-id-6 div.sk-toggleable__content pre {\n",
       "  margin: 0.2em;\n",
       "  border-radius: 0.25em;\n",
       "  color: var(--sklearn-color-text);\n",
       "  /* unfitted */\n",
       "  background-color: var(--sklearn-color-unfitted-level-0);\n",
       "}\n",
       "\n",
       "#sk-container-id-6 div.sk-toggleable__content.fitted pre {\n",
       "  /* unfitted */\n",
       "  background-color: var(--sklearn-color-fitted-level-0);\n",
       "}\n",
       "\n",
       "#sk-container-id-6 input.sk-toggleable__control:checked~div.sk-toggleable__content {\n",
       "  /* Expand drop-down */\n",
       "  max-height: 200px;\n",
       "  max-width: 100%;\n",
       "  overflow: auto;\n",
       "}\n",
       "\n",
       "#sk-container-id-6 input.sk-toggleable__control:checked~label.sk-toggleable__label-arrow:before {\n",
       "  content: \"▾\";\n",
       "}\n",
       "\n",
       "/* Pipeline/ColumnTransformer-specific style */\n",
       "\n",
       "#sk-container-id-6 div.sk-label input.sk-toggleable__control:checked~label.sk-toggleable__label {\n",
       "  color: var(--sklearn-color-text);\n",
       "  background-color: var(--sklearn-color-unfitted-level-2);\n",
       "}\n",
       "\n",
       "#sk-container-id-6 div.sk-label.fitted input.sk-toggleable__control:checked~label.sk-toggleable__label {\n",
       "  background-color: var(--sklearn-color-fitted-level-2);\n",
       "}\n",
       "\n",
       "/* Estimator-specific style */\n",
       "\n",
       "/* Colorize estimator box */\n",
       "#sk-container-id-6 div.sk-estimator input.sk-toggleable__control:checked~label.sk-toggleable__label {\n",
       "  /* unfitted */\n",
       "  background-color: var(--sklearn-color-unfitted-level-2);\n",
       "}\n",
       "\n",
       "#sk-container-id-6 div.sk-estimator.fitted input.sk-toggleable__control:checked~label.sk-toggleable__label {\n",
       "  /* fitted */\n",
       "  background-color: var(--sklearn-color-fitted-level-2);\n",
       "}\n",
       "\n",
       "#sk-container-id-6 div.sk-label label.sk-toggleable__label,\n",
       "#sk-container-id-6 div.sk-label label {\n",
       "  /* The background is the default theme color */\n",
       "  color: var(--sklearn-color-text-on-default-background);\n",
       "}\n",
       "\n",
       "/* On hover, darken the color of the background */\n",
       "#sk-container-id-6 div.sk-label:hover label.sk-toggleable__label {\n",
       "  color: var(--sklearn-color-text);\n",
       "  background-color: var(--sklearn-color-unfitted-level-2);\n",
       "}\n",
       "\n",
       "/* Label box, darken color on hover, fitted */\n",
       "#sk-container-id-6 div.sk-label.fitted:hover label.sk-toggleable__label.fitted {\n",
       "  color: var(--sklearn-color-text);\n",
       "  background-color: var(--sklearn-color-fitted-level-2);\n",
       "}\n",
       "\n",
       "/* Estimator label */\n",
       "\n",
       "#sk-container-id-6 div.sk-label label {\n",
       "  font-family: monospace;\n",
       "  font-weight: bold;\n",
       "  display: inline-block;\n",
       "  line-height: 1.2em;\n",
       "}\n",
       "\n",
       "#sk-container-id-6 div.sk-label-container {\n",
       "  text-align: center;\n",
       "}\n",
       "\n",
       "/* Estimator-specific */\n",
       "#sk-container-id-6 div.sk-estimator {\n",
       "  font-family: monospace;\n",
       "  border: 1px dotted var(--sklearn-color-border-box);\n",
       "  border-radius: 0.25em;\n",
       "  box-sizing: border-box;\n",
       "  margin-bottom: 0.5em;\n",
       "  /* unfitted */\n",
       "  background-color: var(--sklearn-color-unfitted-level-0);\n",
       "}\n",
       "\n",
       "#sk-container-id-6 div.sk-estimator.fitted {\n",
       "  /* fitted */\n",
       "  background-color: var(--sklearn-color-fitted-level-0);\n",
       "}\n",
       "\n",
       "/* on hover */\n",
       "#sk-container-id-6 div.sk-estimator:hover {\n",
       "  /* unfitted */\n",
       "  background-color: var(--sklearn-color-unfitted-level-2);\n",
       "}\n",
       "\n",
       "#sk-container-id-6 div.sk-estimator.fitted:hover {\n",
       "  /* fitted */\n",
       "  background-color: var(--sklearn-color-fitted-level-2);\n",
       "}\n",
       "\n",
       "/* Specification for estimator info (e.g. \"i\" and \"?\") */\n",
       "\n",
       "/* Common style for \"i\" and \"?\" */\n",
       "\n",
       ".sk-estimator-doc-link,\n",
       "a:link.sk-estimator-doc-link,\n",
       "a:visited.sk-estimator-doc-link {\n",
       "  float: right;\n",
       "  font-size: smaller;\n",
       "  line-height: 1em;\n",
       "  font-family: monospace;\n",
       "  background-color: var(--sklearn-color-background);\n",
       "  border-radius: 1em;\n",
       "  height: 1em;\n",
       "  width: 1em;\n",
       "  text-decoration: none !important;\n",
       "  margin-left: 1ex;\n",
       "  /* unfitted */\n",
       "  border: var(--sklearn-color-unfitted-level-1) 1pt solid;\n",
       "  color: var(--sklearn-color-unfitted-level-1);\n",
       "}\n",
       "\n",
       ".sk-estimator-doc-link.fitted,\n",
       "a:link.sk-estimator-doc-link.fitted,\n",
       "a:visited.sk-estimator-doc-link.fitted {\n",
       "  /* fitted */\n",
       "  border: var(--sklearn-color-fitted-level-1) 1pt solid;\n",
       "  color: var(--sklearn-color-fitted-level-1);\n",
       "}\n",
       "\n",
       "/* On hover */\n",
       "div.sk-estimator:hover .sk-estimator-doc-link:hover,\n",
       ".sk-estimator-doc-link:hover,\n",
       "div.sk-label-container:hover .sk-estimator-doc-link:hover,\n",
       ".sk-estimator-doc-link:hover {\n",
       "  /* unfitted */\n",
       "  background-color: var(--sklearn-color-unfitted-level-3);\n",
       "  color: var(--sklearn-color-background);\n",
       "  text-decoration: none;\n",
       "}\n",
       "\n",
       "div.sk-estimator.fitted:hover .sk-estimator-doc-link.fitted:hover,\n",
       ".sk-estimator-doc-link.fitted:hover,\n",
       "div.sk-label-container:hover .sk-estimator-doc-link.fitted:hover,\n",
       ".sk-estimator-doc-link.fitted:hover {\n",
       "  /* fitted */\n",
       "  background-color: var(--sklearn-color-fitted-level-3);\n",
       "  color: var(--sklearn-color-background);\n",
       "  text-decoration: none;\n",
       "}\n",
       "\n",
       "/* Span, style for the box shown on hovering the info icon */\n",
       ".sk-estimator-doc-link span {\n",
       "  display: none;\n",
       "  z-index: 9999;\n",
       "  position: relative;\n",
       "  font-weight: normal;\n",
       "  right: .2ex;\n",
       "  padding: .5ex;\n",
       "  margin: .5ex;\n",
       "  width: min-content;\n",
       "  min-width: 20ex;\n",
       "  max-width: 50ex;\n",
       "  color: var(--sklearn-color-text);\n",
       "  box-shadow: 2pt 2pt 4pt #999;\n",
       "  /* unfitted */\n",
       "  background: var(--sklearn-color-unfitted-level-0);\n",
       "  border: .5pt solid var(--sklearn-color-unfitted-level-3);\n",
       "}\n",
       "\n",
       ".sk-estimator-doc-link.fitted span {\n",
       "  /* fitted */\n",
       "  background: var(--sklearn-color-fitted-level-0);\n",
       "  border: var(--sklearn-color-fitted-level-3);\n",
       "}\n",
       "\n",
       ".sk-estimator-doc-link:hover span {\n",
       "  display: block;\n",
       "}\n",
       "\n",
       "/* \"?\"-specific style due to the `<a>` HTML tag */\n",
       "\n",
       "#sk-container-id-6 a.estimator_doc_link {\n",
       "  float: right;\n",
       "  font-size: 1rem;\n",
       "  line-height: 1em;\n",
       "  font-family: monospace;\n",
       "  background-color: var(--sklearn-color-background);\n",
       "  border-radius: 1rem;\n",
       "  height: 1rem;\n",
       "  width: 1rem;\n",
       "  text-decoration: none;\n",
       "  /* unfitted */\n",
       "  color: var(--sklearn-color-unfitted-level-1);\n",
       "  border: var(--sklearn-color-unfitted-level-1) 1pt solid;\n",
       "}\n",
       "\n",
       "#sk-container-id-6 a.estimator_doc_link.fitted {\n",
       "  /* fitted */\n",
       "  border: var(--sklearn-color-fitted-level-1) 1pt solid;\n",
       "  color: var(--sklearn-color-fitted-level-1);\n",
       "}\n",
       "\n",
       "/* On hover */\n",
       "#sk-container-id-6 a.estimator_doc_link:hover {\n",
       "  /* unfitted */\n",
       "  background-color: var(--sklearn-color-unfitted-level-3);\n",
       "  color: var(--sklearn-color-background);\n",
       "  text-decoration: none;\n",
       "}\n",
       "\n",
       "#sk-container-id-6 a.estimator_doc_link.fitted:hover {\n",
       "  /* fitted */\n",
       "  background-color: var(--sklearn-color-fitted-level-3);\n",
       "}\n",
       "</style><div id=\"sk-container-id-6\" class=\"sk-top-container\"><div class=\"sk-text-repr-fallback\"><pre>RandomForestClassifier(max_features=None, min_samples_leaf=5,\n",
       "                       min_samples_split=6)</pre><b>In a Jupyter environment, please rerun this cell to show the HTML representation or trust the notebook. <br />On GitHub, the HTML representation is unable to render, please try loading this page with nbviewer.org.</b></div><div class=\"sk-container\" hidden><div class=\"sk-item\"><div class=\"sk-estimator fitted sk-toggleable\"><input class=\"sk-toggleable__control sk-hidden--visually\" id=\"sk-estimator-id-6\" type=\"checkbox\" checked><label for=\"sk-estimator-id-6\" class=\"sk-toggleable__label fitted sk-toggleable__label-arrow fitted\">&nbsp;&nbsp;RandomForestClassifier<a class=\"sk-estimator-doc-link fitted\" rel=\"noreferrer\" target=\"_blank\" href=\"https://scikit-learn.org/1.4/modules/generated/sklearn.ensemble.RandomForestClassifier.html\">?<span>Documentation for RandomForestClassifier</span></a><span class=\"sk-estimator-doc-link fitted\">i<span>Fitted</span></span></label><div class=\"sk-toggleable__content fitted\"><pre>RandomForestClassifier(max_features=None, min_samples_leaf=5,\n",
       "                       min_samples_split=6)</pre></div> </div></div></div></div>"
      ],
      "text/plain": [
       "RandomForestClassifier(max_features=None, min_samples_leaf=5,\n",
       "                       min_samples_split=6)"
      ]
     },
     "execution_count": 274,
     "metadata": {},
     "output_type": "execute_result"
    }
   ],
   "source": [
    "trained_rf = RandomForestClassifier(max_depth=None, max_features = None, min_samples_leaf = 5, min_samples_split = 6, n_estimators= 100)\n",
    "trained_rf.fit(X_train2, y_train)"
   ]
  },
  {
   "cell_type": "code",
   "execution_count": 275,
   "metadata": {},
   "outputs": [
    {
     "data": {
      "text/plain": [
       "0.7869313730877551"
      ]
     },
     "execution_count": 275,
     "metadata": {},
     "output_type": "execute_result"
    }
   ],
   "source": [
    "from sklearn.metrics import roc_auc_score\n",
    "roc_auc_score(y_test, trained_rf.predict_proba(X_test.drop(['index','ocp_wr_total','ocp_jl_total','ocp_hd_total'], axis=1)), multi_class='ovr' )"
   ]
  },
  {
   "cell_type": "code",
   "execution_count": 276,
   "metadata": {},
   "outputs": [
    {
     "name": "stdout",
     "output_type": "stream",
     "text": [
      "f1_score: 0.7012604138790164\n"
     ]
    }
   ],
   "source": [
    "from sklearn.metrics import f1_score\n",
    "y_pred = trained_rf.predict(X_test.drop(['index','ocp_wr_total','ocp_jl_total','ocp_hd_total'], axis=1))\n",
    "print('f1_score: ' + str(f1_score(y_test, y_pred, average='weighted')))"
   ]
  },
  {
   "cell_type": "code",
   "execution_count": null,
   "metadata": {},
   "outputs": [],
   "source": [
    "## Apply Shap library"
   ]
  },
  {
   "cell_type": "code",
   "execution_count": 181,
   "metadata": {},
   "outputs": [],
   "source": [
    "import shap"
   ]
  },
  {
   "cell_type": "code",
   "execution_count": 277,
   "metadata": {},
   "outputs": [],
   "source": [
    "import shap\n",
    "explainer = shap.TreeExplainer(trained_rf)\n",
    "shap_values = explainer(X_train.drop(['index','ocp_wr_total','ocp_jl_total','ocp_hd_total'], axis=1))"
   ]
  },
  {
   "cell_type": "code",
   "execution_count": 278,
   "metadata": {},
   "outputs": [
    {
     "data": {
      "text/plain": [
       "(14755, 5, 3)"
      ]
     },
     "execution_count": 278,
     "metadata": {},
     "output_type": "execute_result"
    }
   ],
   "source": [
    "shap_values.shape"
   ]
  },
  {
   "cell_type": "code",
   "execution_count": null,
   "metadata": {},
   "outputs": [],
   "source": [
    "## Interpretation"
   ]
  },
  {
   "cell_type": "code",
   "execution_count": 279,
   "metadata": {},
   "outputs": [],
   "source": [
    "search_X_train = X_train.copy()\n",
    "search_X_train['search_index'] = range(len(X_train))"
   ]
  },
  {
   "cell_type": "code",
   "execution_count": 293,
   "metadata": {},
   "outputs": [
    {
     "data": {
      "text/plain": [
       "[[52790, 55068],\n",
       " [66168, 66304],\n",
       " [67697, 68006],\n",
       " [68755, 68940],\n",
       " [55844, 56596]]"
      ]
     },
     "execution_count": 293,
     "metadata": {},
     "output_type": "execute_result"
    }
   ],
   "source": [
    "valid_index[:5]"
   ]
  },
  {
   "cell_type": "code",
   "execution_count": 294,
   "metadata": {},
   "outputs": [
    {
     "data": {
      "text/plain": [
       "68755    13457\n",
       "Name: search_index, dtype: int64"
      ]
     },
     "execution_count": 294,
     "metadata": {},
     "output_type": "execute_result"
    }
   ],
   "source": [
    "search_X_train[ search_X_train['index'] == 68755]['search_index']"
   ]
  },
  {
   "cell_type": "code",
   "execution_count": 295,
   "metadata": {},
   "outputs": [
    {
     "data": {
      "text/plain": [
       "68940    11117\n",
       "Name: search_index, dtype: int64"
      ]
     },
     "execution_count": 295,
     "metadata": {},
     "output_type": "execute_result"
    }
   ],
   "source": [
    "search_X_train[ search_X_train['index'] == 68940]['search_index']"
   ]
  },
  {
   "cell_type": "code",
   "execution_count": 296,
   "metadata": {},
   "outputs": [],
   "source": [
    "# test with index 68755 (13457) and 68940 (11117) / intial_index (index of X_train)"
   ]
  },
  {
   "cell_type": "code",
   "execution_count": 302,
   "metadata": {},
   "outputs": [
    {
     "data": {
      "text/html": [
       "<div>\n",
       "<style scoped>\n",
       "    .dataframe tbody tr th:only-of-type {\n",
       "        vertical-align: middle;\n",
       "    }\n",
       "\n",
       "    .dataframe tbody tr th {\n",
       "        vertical-align: top;\n",
       "    }\n",
       "\n",
       "    .dataframe thead th {\n",
       "        text-align: right;\n",
       "    }\n",
       "</style>\n",
       "<table border=\"1\" class=\"dataframe\">\n",
       "  <thead>\n",
       "    <tr style=\"text-align: right;\">\n",
       "      <th></th>\n",
       "      <th>c_occu_jail</th>\n",
       "      <th>c_occu_wr</th>\n",
       "      <th>c_occu_hd</th>\n",
       "      <th>c_vio</th>\n",
       "      <th>ocp_jl_total</th>\n",
       "      <th>ocp_wr_total</th>\n",
       "      <th>ocp_hd_total</th>\n",
       "      <th>class_mild</th>\n",
       "      <th>placement</th>\n",
       "      <th>index</th>\n",
       "    </tr>\n",
       "  </thead>\n",
       "  <tbody>\n",
       "    <tr>\n",
       "      <th>68755</th>\n",
       "      <td>0.00144</td>\n",
       "      <td>0.000432</td>\n",
       "      <td>0.000432</td>\n",
       "      <td>0.1</td>\n",
       "      <td>212</td>\n",
       "      <td>335</td>\n",
       "      <td>230</td>\n",
       "      <td>1</td>\n",
       "      <td>work release</td>\n",
       "      <td>68755</td>\n",
       "    </tr>\n",
       "  </tbody>\n",
       "</table>\n",
       "</div>"
      ],
      "text/plain": [
       "       c_occu_jail  c_occu_wr  c_occu_hd  c_vio  ocp_jl_total  ocp_wr_total  \\\n",
       "68755      0.00144   0.000432   0.000432    0.1           212           335   \n",
       "\n",
       "       ocp_hd_total  class_mild     placement  index  \n",
       "68755           230           1  work release  68755  "
      ]
     },
     "execution_count": 302,
     "metadata": {},
     "output_type": "execute_result"
    }
   ],
   "source": [
    "myDF[ myDF['index'] == 68755]"
   ]
  },
  {
   "cell_type": "code",
   "execution_count": 303,
   "metadata": {},
   "outputs": [
    {
     "data": {
      "text/html": [
       "<div>\n",
       "<style scoped>\n",
       "    .dataframe tbody tr th:only-of-type {\n",
       "        vertical-align: middle;\n",
       "    }\n",
       "\n",
       "    .dataframe tbody tr th {\n",
       "        vertical-align: top;\n",
       "    }\n",
       "\n",
       "    .dataframe thead th {\n",
       "        text-align: right;\n",
       "    }\n",
       "</style>\n",
       "<table border=\"1\" class=\"dataframe\">\n",
       "  <thead>\n",
       "    <tr style=\"text-align: right;\">\n",
       "      <th></th>\n",
       "      <th>c_occu_jail</th>\n",
       "      <th>c_occu_wr</th>\n",
       "      <th>c_occu_hd</th>\n",
       "      <th>c_vio</th>\n",
       "      <th>ocp_jl_total</th>\n",
       "      <th>ocp_wr_total</th>\n",
       "      <th>ocp_hd_total</th>\n",
       "      <th>class_mild</th>\n",
       "      <th>placement</th>\n",
       "      <th>index</th>\n",
       "    </tr>\n",
       "  </thead>\n",
       "  <tbody>\n",
       "    <tr>\n",
       "      <th>68940</th>\n",
       "      <td>0.00144</td>\n",
       "      <td>0.000432</td>\n",
       "      <td>0.000432</td>\n",
       "      <td>0.1</td>\n",
       "      <td>212</td>\n",
       "      <td>335</td>\n",
       "      <td>230</td>\n",
       "      <td>0</td>\n",
       "      <td>jail</td>\n",
       "      <td>68940</td>\n",
       "    </tr>\n",
       "  </tbody>\n",
       "</table>\n",
       "</div>"
      ],
      "text/plain": [
       "       c_occu_jail  c_occu_wr  c_occu_hd  c_vio  ocp_jl_total  ocp_wr_total  \\\n",
       "68940      0.00144   0.000432   0.000432    0.1           212           335   \n",
       "\n",
       "       ocp_hd_total  class_mild placement  index  \n",
       "68940           230           0      jail  68940  "
      ]
     },
     "execution_count": 303,
     "metadata": {},
     "output_type": "execute_result"
    }
   ],
   "source": [
    "myDF[ myDF['index'] == 68940]"
   ]
  },
  {
   "cell_type": "code",
   "execution_count": 304,
   "metadata": {},
   "outputs": [
    {
     "data": {
      "image/png": "[encoded data removed]",
      "text/plain": [
       "<Figure size 800x400 with 3 Axes>"
      ]
     },
     "metadata": {},
     "output_type": "display_data"
    }
   ],
   "source": [
    "shap.waterfall_plot(shap_values[13457,:,0]) #placement is Work Release"
   ]
  },
  {
   "cell_type": "code",
   "execution_count": 311,
   "metadata": {},
   "outputs": [
    {
     "name": "stdout",
     "output_type": "stream",
     "text": [
      "[0.0019165853505515686, -0.0031675848210089724, 0.0034450688889313273, 0.012623160234767308, 0.2526400008680087]\n"
     ]
    }
   ],
   "source": [
    "print(sorted(shap_values[13457,:,0].values, key =abs))"
   ]
  },
  {
   "cell_type": "code",
   "execution_count": 305,
   "metadata": {},
   "outputs": [
    {
     "data": {
      "image/png": "[encoded data removed]",
      "text/plain": [
       "<Figure size 800x400 with 3 Axes>"
      ]
     },
     "metadata": {},
     "output_type": "display_data"
    }
   ],
   "source": [
    "shap.waterfall_plot(shap_values[11117,:,2]) #placement is Jail"
   ]
  },
  {
   "cell_type": "code",
   "execution_count": 312,
   "metadata": {},
   "outputs": [
    {
     "name": "stdout",
     "output_type": "stream",
     "text": [
      "[0.0008034669556548388, 0.0012915698760632228, -0.001413040776840898, 0.004969973764310381, -0.5500389572810652]\n"
     ]
    }
   ],
   "source": [
    "print(sorted(shap_values[11117,:,0].values, key =abs))"
   ]
  }
 ],
 "metadata": {
  "kernelspec": {
   "display_name": "Python 3",
   "language": "python",
   "name": "python3"
  },
  "language_info": {
   "codemirror_mode": {
    "name": "ipython",
    "version": 3
   },
   "file_extension": ".py",
   "mimetype": "text/x-python",
   "name": "python",
   "nbconvert_exporter": "python",
   "pygments_lexer": "ipython3",
   "version": "3.12.2"
  }
 },
 "nbformat": 4,
 "nbformat_minor": 2
}
