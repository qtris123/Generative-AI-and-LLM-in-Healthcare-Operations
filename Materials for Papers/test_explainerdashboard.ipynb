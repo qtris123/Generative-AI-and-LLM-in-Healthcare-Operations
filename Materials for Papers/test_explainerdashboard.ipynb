{
 "cells": [
  {
   "cell_type": "code",
   "execution_count": null,
   "metadata": {},
   "outputs": [],
   "source": [
    "import pandas as pd\n",
    "import numpy as np"
   ]
  },
  {
   "cell_type": "code",
   "execution_count": 16,
   "metadata": {},
   "outputs": [],
   "source": [
    "data = r\"..\\dataset\\demographics_to_placement_simulation_WR_no_cap_continuous_2.csv\"\n",
    "csv = pd.read_csv(data)"
   ]
  },
  {
   "cell_type": "code",
   "execution_count": null,
   "metadata": {},
   "outputs": [],
   "source": [
    "from sklearn.model_selection import train_test_split\n",
    "from sklearn.ensemble import RandomForestClassifier"
   ]
  },
  {
   "cell_type": "code",
   "execution_count": null,
   "metadata": {},
   "outputs": [],
   "source": [
    "continuous_after = pd.read_csv(\"..\\dataset\\demographics_to_placement_simulation_WR_no_cap_continuous_2.csv\")\n",
    "unknown_employment_index = continuous_after[ (continuous_after['employmentStatus_Full_Time'] == 0) & (continuous_after['employmentStatus_Part_Time'] == 0) & (continuous_after['employmentStatus_Unemployed'] == 0)].index\n",
    "unknown_employment_age = continuous_after[ (continuous_after['employmentStatus_Part_Time'] == 0) & (continuous_after['employmentStatus_Unemployed'] == 0) & (continuous_after['employmentStatus_Full_Time'] == 0) ]['age']\n",
    "unemployment_index = continuous_after[ continuous_after['employmentStatus_Unemployed'] == 1].index\n",
    "unknown_employment_index\n",
    "\n",
    "type1_index = list(unemployment_index) + list(unknown_employment_index)\n",
    "type2_index = list(continuous_after[ continuous_after['employmentStatus_Full_Time'] == 1].index) + list(continuous_after[ continuous_after['employmentStatus_Part_Time'] == 1].index)\n",
    "new_row = [0] * continuous_after.shape[0]\n",
    "for index in type1_index:\n",
    "    new_row[index] = 1\n",
    "\n",
    "continuous_after['Employed'] = new_row\n",
    "continuous_after.drop(['employmentStatus_Part_Time', 'employmentStatus_Full_Time'], axis =1, inplace = True )\n",
    "\n",
    "new_row = [0] * continuous_after.shape[0]\n",
    "for index in type2_index:\n",
    "    new_row[index] = 1\n",
    "\n",
    "continuous_after['Unemployed'] = new_row\n",
    "continuous_after.drop(['employmentStatus_Unemployed'], axis =1, inplace = True )\n",
    "continuous_after.drop(['Unemployed','ocp_wr_low_los', 'ocp_jl_low_los', 'ocp_hd_low_los','licenseStatus_Not_Suspended','licenseStatus_Suspended'], axis=1, inplace=True) \n",
    "\n",
    "# one hot encoding  -> the target is \"placement\", so we don't need to encode this column, also bcz RandomForest can handle categorical target data\n",
    "# work release = 0 | home detention = 1 | jail = 2\n",
    "for ind, item in continuous_after.iterrows():\n",
    "    if item['placement'] == 'work release':\n",
    "        continuous_after['placement'].iat[ind] = '0'\n",
    "    elif item['placement'] == 'home detention':\n",
    "        continuous_after['placement'].iat[ind] = '1'\n",
    "    elif item['placement'] == 'jail':\n",
    "        continuous_after['placement'].iat[ind] = '2'\n",
    "\n",
    "#object to int\n",
    "continuous_after['placement'] = pd.to_numeric(continuous_after['placement'])\n",
    "\n",
    "# drop imbalanced data\n",
    "continuous_after.drop(['race_Other', 'registeredSexOffender_TRUE', 'violentOffender_TRUE', 'gangMember_x_TRUE', 'homeless_TRUE'], axis = 1, inplace = True)\n",
    "    \n",
    "#cost multiplication\n",
    "continuous_after['weighted_jl_total'] = continuous_after['c_occu_jail']*continuous_after['ocp_jl_total']\n",
    "continuous_after['weighted_wr_total'] = continuous_after['c_occu_wr']*continuous_after['ocp_wr_total']\n",
    "continuous_after['weighted_hd_total'] = continuous_after['c_occu_hd']*continuous_after['ocp_hd_total']\n",
    "continuous_after.drop(['c_occu_jail', 'c_occu_wr', 'c_occu_hd', 'ocp_jl_total', 'ocp_wr_total', 'ocp_hd_total'], axis = 1, inplace=True)\n",
    "\n",
    "y2 = continuous_after[\"placement\"]\n",
    "X2 = continuous_after.drop([\"placement\"], axis = 1)\n",
    "\n",
    "X_train, X_test, y_train, y_test = train_test_split( X2, y2, train_size = 0.7, random_state = 1) "
   ]
  },
  {
   "cell_type": "code",
   "execution_count": null,
   "metadata": {},
   "outputs": [],
   "source": [
    "rf_model2 = RandomForestClassifier(max_depth= 7, max_features = 'sqrt',\n",
    "                                            min_samples_leaf = 5, min_samples_split = 5,\n",
    "                                            n_estimators = 100, random_state= 50) \n",
    "rf_model2.fit(X_train, y_train)"
   ]
  },
  {
   "cell_type": "code",
   "execution_count": null,
   "metadata": {},
   "outputs": [],
   "source": [
    "from explainerdashboard import ClassifierExplainer, ExplainerDashboard"
   ]
  },
  {
   "cell_type": "code",
   "execution_count": null,
   "metadata": {},
   "outputs": [],
   "source": [
    "feature_descriptions = {'age': \"a\", 'num_previous_recidivisms': \"b\", 'race_Caucasian' : \"c\", 'race_Hispanic' : \"d\",\n",
    "       'gender_Male' : \"e\", 'HighestEducationLevel_High_School_Diploma' : \"f\",\n",
    "       'HighestEducationLevel_No_HS_Diploma' : \"g\",\n",
    "       'HighestEducationLevel_Some_College' : \"h\", 'c_vio' : \"i\", 'Employed' : \"j\",\n",
    "       'weighted_jl_total' : \"k\", 'weighted_wr_total' : \"l\", 'weighted_hd_total' : \"m\"}"
   ]
  },
  {
   "cell_type": "code",
   "execution_count": null,
   "metadata": {},
   "outputs": [],
   "source": [
    "explainer = ClassifierExplainer(rf_model2, X_test, y_test, \n",
    "                               #cats=['race_Caucasian', 'race_Hispanic','gender_Male', 'HighestEducationLevel_High_School_Diploma',\n",
    "                            #'HighestEducationLevel_No_HS_Diploma', 'HighestEducationLevel_Some_College','Employed'],\n",
    "                               descriptions=feature_descriptions,\n",
    "                               labels=['0','1','2'])"
   ]
  },
  {
   "cell_type": "code",
   "execution_count": null,
   "metadata": {},
   "outputs": [],
   "source": [
    "db = ExplainerDashboard(explainer, mode='inline')"
   ]
  }
 ],
 "metadata": {
  "kernelspec": {
   "display_name": "Python 3",
   "language": "python",
   "name": "python3"
  },
  "language_info": {
   "codemirror_mode": {
    "name": "ipython",
    "version": 3
   },
   "file_extension": ".py",
   "mimetype": "text/x-python",
   "name": "python",
   "nbconvert_exporter": "python",
   "pygments_lexer": "ipython3",
   "version": "3.12.9"
  }
 },
 "nbformat": 4,
 "nbformat_minor": 2
}
